{
 "cells": [
  {
   "cell_type": "code",
   "execution_count": 1,
   "metadata": {},
   "outputs": [],
   "source": [
    "import torch as th \n",
    "import torch.nn as nn \n",
    "import torch.nn.functional as F \n",
    "import torch.optim as optim\n",
    "from torch.utils.data import DataLoader, Dataset, random_split\n",
    "import pytorch_lightning as pl \n",
    "from pytorch_lightning import Trainer, LightningModule\n",
    "\n",
    "import torchdyn \n",
    "from torchdyn.core import NeuralODE\n",
    "\n",
    "import os\n",
    "import cv2 \n",
    "import numpy as np \n",
    "import matplotlib.pyplot as plt \n",
    "\n",
    "import warnings \n",
    "warnings.filterwarnings(\"ignore\")"
   ]
  },
  {
   "cell_type": "code",
   "execution_count": 2,
   "metadata": {},
   "outputs": [],
   "source": [
    "PATH = r'/Users/suyashsachdeva/Desktop/GyanBhandar/CircuitSolver/'"
   ]
  },
  {
   "cell_type": "code",
   "execution_count": 8,
   "metadata": {},
   "outputs": [],
   "source": [
    "class CircuitFused(Dataset):\n",
    "    def __init__(self, datadir, image_size):\n",
    "        super().__init__()\n",
    "        self.datadir = datadir\n",
    "        self.image_size = image_size\n",
    "        self.images, self.labels = self.datareader()\n",
    "\n",
    "    def datareader(self):\n",
    "        X = []\n",
    "        Y = []\n",
    "        folders = os.listdir(self.datadir)\n",
    "        try:\n",
    "            for folder in folders:\n",
    "                files = os.listdir(self.datadir+folder)\n",
    "                for file in files:\n",
    "                    image = cv2.imread(self.datadir+folder+\"/\"+file)\n",
    "                    image = cv2.cvtColor(image, cv2.COLOR_BGR2GRAY)\n",
    "                    image = cv2.resize(image, (self.image_size[0], self.image_size[1]), cv2.INTER_AREA)/255.0\n",
    "                    X.append(image.reshape(1, self.image_size[0], self.image_size[1]))\n",
    "                    Y.append(folder)\n",
    "        except:\n",
    "            pass\n",
    "        return X, Y\n",
    "\n",
    "    def __len__(self):\n",
    "        return len(self.labels)\n",
    "\n",
    "    def __getitem__(self, idx):\n",
    "        label = self.labels[idx]\n",
    "        image = self.images[idx]\n",
    "        sample = {\"Image\": image, \"Label\": label}\n",
    "        return sample"
   ]
  },
  {
   "cell_type": "code",
   "execution_count": 15,
   "metadata": {},
   "outputs": [],
   "source": [
    "CircuitDataset = DataLoader(CircuitFused(PATH, (64, 64)), batch_size=100, shuffle=True)"
   ]
  },
  {
   "cell_type": "code",
   "execution_count": null,
   "metadata": {},
   "outputs": [],
   "source": [
    "class CNNODEBlock(nn.Module):\n",
    "    def __init__(self, infilter, outfilter, kernel, moment):\n",
    "        super(CNNODEBlock, self).__init__()\n",
    "        self.conv1 = nn.Conv2d(infilter, outfilter, kernel)\n",
    "        self.act = nn.ReLU()\n",
    "        self.conv2 = nn.Conv2d(outfilter, infilter, kernel)\n",
    "        pad = int((kernel-1)/2)\n",
    "        self.pad = nn.ZeroPad2d(pad)\n",
    "        self.norm1 = nn.BatchNorm2d(outfilter, momentum=moment)\n",
    "        self.norm2 = nn.BatchNorm2d(infilter, momentum=moment)\n",
    "\n",
    "    def forward(self, x):\n",
    "        x = self.act(self.norm1(self.pad(self.conv1(x))))\n",
    "        return self.act(self.norm2(self.pad(self.conv2(x))))\n",
    "    \n",
    "class UPBlock(nn.Module):\n",
    "    def __init__(self, infilter, outfilter, kernel, moment):\n",
    "        super(UPBlock).__init__()\n",
    "        self.conv1 = nn.Conv2d()\n",
    "        \n",
    "\n",
    "class CNNODE(nn.Module):\n",
    "    def __init__(self, num=3, filter=64, dense=256, classes=15):\n",
    "        super(CNNODE, self).__init__()\n",
    "        self\n",
    "t_span = th.linspace(0, 1, 100)"
   ]
  }
 ],
 "metadata": {
  "kernelspec": {
   "display_name": "CNN",
   "language": "python",
   "name": "python3"
  },
  "language_info": {
   "codemirror_mode": {
    "name": "ipython",
    "version": 3
   },
   "file_extension": ".py",
   "mimetype": "text/x-python",
   "name": "python",
   "nbconvert_exporter": "python",
   "pygments_lexer": "ipython3",
   "version": "3.10.9"
  },
  "orig_nbformat": 4,
  "vscode": {
   "interpreter": {
    "hash": "a580aac5ad65c26b09914c4d39579c9a7b96bf6be88d0e5d5e57a0b213e38927"
   }
  }
 },
 "nbformat": 4,
 "nbformat_minor": 2
}
