{
 "cells": [
  {
   "cell_type": "code",
   "execution_count": 251,
   "metadata": {},
   "outputs": [],
   "source": [
    "import torch as th \n",
    "import torch.nn as nn \n",
    "import torch.nn.functional as F \n",
    "import torch.optim as optim\n",
    "from torch.utils.data import DataLoader, Dataset, random_split\n",
    "import pytorch_lightning as pl \n",
    "from pytorch_lightning import Trainer, LightningModule, LightningDataModule\n",
    "\n",
    "import torchdyn \n",
    "from torchdyn.core import NeuralODE\n",
    "\n",
    "import os\n",
    "import cv2 \n",
    "import numpy as np \n",
    "import matplotlib.pyplot as plt \n",
    "\n",
    "import warnings \n",
    "warnings.filterwarnings(\"ignore\")"
   ]
  },
  {
   "attachments": {},
   "cell_type": "markdown",
   "metadata": {},
   "source": [
    "## DATA"
   ]
  },
  {
   "cell_type": "code",
   "execution_count": 253,
   "metadata": {},
   "outputs": [],
   "source": [
    "class CircuitFused(Dataset):\n",
    "    def __init__(self, datadir, image_size):\n",
    "        super().__init__()\n",
    "        self.datadir = datadir\n",
    "        self.image_size = image_size\n",
    "        self.images, self.labels = self.datareader()\n",
    "\n",
    "    def datareader(self):\n",
    "        X = []\n",
    "        Y = []\n",
    "        folders = os.listdir(self.datadir)\n",
    "        for c, folder in enumerate(folders):\n",
    "            try:\n",
    "                files = os.listdir(self.datadir+folder)\n",
    "                for file in files:\n",
    "                    image = cv2.imread(self.datadir+folder+\"/\"+file)\n",
    "                    image = cv2.cvtColor(image, cv2.COLOR_BGR2GRAY)\n",
    "                    image = cv2.resize(image, (self.image_size[0], self.image_size[1]), cv2.INTER_AREA)/255.0\n",
    "                    image = np.array(image, dtype= np.float32)\n",
    "                    X.append(image.reshape(1, self.image_size[0], self.image_size[1]))\n",
    "                    arr = np.zeros(15, dtype=\"float32\")\n",
    "                    arr[int(c)]=1\n",
    "                    Y.append(arr)\n",
    "            except:\n",
    "                pass\n",
    "        return X, Y\n",
    "\n",
    "    def __len__(self):\n",
    "        return len(self.images)\n",
    "\n",
    "    def __getitem__(self, idx):\n",
    "        label = th.from_numpy(self.labels[idx])\n",
    "        image = th.from_numpy(self.images[idx])\n",
    "        sample = {\"Image\": image.reshape(1, 64, 64), \"Label\": label}\n",
    "        return sample"
   ]
  },
  {
   "attachments": {},
   "cell_type": "markdown",
   "metadata": {},
   "source": [
    "## MODELS"
   ]
  },
  {
   "cell_type": "code",
   "execution_count": 254,
   "metadata": {},
   "outputs": [],
   "source": [
    "class CNNODEBlock(nn.Module):\n",
    "    def __init__(self, infilter:int, outfilter:int, kernel:int, moment:float):\n",
    "        super(CNNODEBlock, self).__init__()\n",
    "        self.conv1 = nn.Conv2d(infilter, outfilter, kernel)\n",
    "        self.act = nn.ReLU()\n",
    "        self.conv2 = nn.Conv2d(outfilter, infilter, kernel)\n",
    "        pad = int((kernel-1)/2)\n",
    "        self.pad = nn.ZeroPad2d(pad)\n",
    "        self.norm1 = nn.BatchNorm2d(outfilter, momentum=moment)\n",
    "        self.norm2 = nn.BatchNorm2d(infilter, momentum=moment)\n",
    "\n",
    "    def forward(self, x):\n",
    "        x = self.act(self.norm1(self.pad(self.conv1(x))))\n",
    "        return self.act(self.norm2(self.pad(self.conv2(x))))"
   ]
  },
  {
   "cell_type": "code",
   "execution_count": 255,
   "metadata": {},
   "outputs": [],
   "source": [
    "class UPBlock(nn.Module):\n",
    "    def __init__(self, infilter:int, outfilter:int, kernel:int, moment:float):\n",
    "        super(UPBlock, self).__init__()\n",
    "        self.conv1 = nn.Conv2d(infilter, outfilter, kernel)\n",
    "        self.norm1 = nn.BatchNorm2d(outfilter, momentum=moment)\n",
    "\n",
    "        self.conv2 = nn.Conv2d(outfilter, outfilter, kernel)\n",
    "        self.norm2 = nn.BatchNorm2d(outfilter, momentum=moment)\n",
    "\n",
    "        self.act = nn.ReLU()\n",
    "        self.pad = nn.ZeroPad2d(int((kernel-1)/2.0))\n",
    "        self.pool = nn.MaxPool2d(2, 2)\n",
    "    \n",
    "    def forward(self, x):\n",
    "        x = self.act(self.norm1(self.pad(self.conv1(x))))\n",
    "        x = self.act(self.norm2(self.pad(self.conv2(x))))\n",
    "        return self.pool(x)"
   ]
  },
  {
   "cell_type": "code",
   "execution_count": 256,
   "metadata": {},
   "outputs": [],
   "source": [
    "class DenseBlock(nn.Module):\n",
    "    def __init__(self, filter:int, dense:int, drop:float, classes:int):\n",
    "        super(DenseBlock, self).__init__()\n",
    "        self.pool = nn.AdaptiveAvgPool2d((1,1))\n",
    "        self.flat = nn.Flatten()\n",
    "        self.dense = nn.Linear(filter, dense)\n",
    "        self.drop = nn.Dropout(drop)\n",
    "        self.final = nn.Linear(dense, classes)\n",
    "    \n",
    "    def forward(self,x):\n",
    "        x = self.dense(self.drop(self.flat(self.pool(x))))\n",
    "        return F.softmax(self.final(self.drop(F.relu(x))), dim=-1)"
   ]
  },
  {
   "cell_type": "code",
   "execution_count": 257,
   "metadata": {},
   "outputs": [],
   "source": [
    "class CNNODE(nn.Module):\n",
    "    def __init__(self, num=3, filter=64, dense=256, classes=15, gf=2, kernel=3, moment=0.9, drop=0.2):\n",
    "        super(CNNODE, self).__init__()\n",
    "        self.cnnode = nn.ModuleList([])\n",
    "        self.upsamp = nn.ModuleList([])\n",
    "        self.final = DenseBlock(filter*pow(gf, num), dense, drop, classes)\n",
    "        self.conv = UPBlock(1, filter, kernel, moment)\n",
    "        \n",
    "        for _ in range(num):\n",
    "            f = CNNODEBlock(filter, filter*2, kernel, moment)\n",
    "            model = NeuralODE(f, sensitivity='adjoint', solver='rk4', solver_adjoint='dopri5', atol_adjoint=1e-4, rtol_adjoint=1e-4)\n",
    "            self.cnnode.append(model)\n",
    "            self.upsamp.append(UPBlock(filter, filter*2, kernel, moment))\n",
    "            filter = filter*gf\n",
    "\n",
    "    def forward(self, x, t_span):\n",
    "        x = self.conv(x)\n",
    "        for neuralode, neuralnetwork in zip(self.cnnode, self.upsamp):\n",
    "            t, x = neuralode(x, t_span)\n",
    "            x = neuralnetwork(x[-1])\n",
    "        return self.final(x)  "
   ]
  },
  {
   "attachments": {},
   "cell_type": "markdown",
   "metadata": {},
   "source": [
    "## TRAIN"
   ]
  },
  {
   "cell_type": "code",
   "execution_count": 258,
   "metadata": {},
   "outputs": [],
   "source": [
    "class Learner(LightningModule):\n",
    "    def __init__(self, data:Dataset, model:nn.Module, t_span:th.tensor,  batchsize:int=20, learning_rate:float=1e-4):\n",
    "        super(Learner, self).__init__()\n",
    "        self.model, self.t_span = model, t_span\n",
    "        self.data = data\n",
    "        self.batchsize = batchsize\n",
    "        self.learning_rate = learning_rate\n",
    "\n",
    "    def forward(self, x):\n",
    "        return self.model(x)\n",
    "    \n",
    "    def training_step(self, batch, batch_idx):\n",
    "        x = batch[\"Image\"]\n",
    "        y = batch[\"Label\"]\n",
    "        y_hat = self.model(x, self.t_span)\n",
    "        loss = nn.CrossEntropyLoss()(y_hat, y)\n",
    "        return {'loss': loss}\n",
    "    \n",
    "    def configure_optimizers(self):\n",
    "        return th.optim.Adam(self.model.parameters(), lr=self.learning_rate)\n",
    "    \n",
    "    def train_dataloader(self):\n",
    "        return DataLoader(self.data, batch_size=self.batchsize, shuffle=True)"
   ]
  },
  {
   "cell_type": "code",
   "execution_count": 259,
   "metadata": {},
   "outputs": [
    {
     "name": "stdout",
     "output_type": "stream",
     "text": [
      "Your vector field callable (nn.Module) should have both time `t` and state `x` as arguments, we've wrapped it for you.\n",
      "Your vector field callable (nn.Module) should have both time `t` and state `x` as arguments, we've wrapped it for you.\n",
      "Your vector field callable (nn.Module) should have both time `t` and state `x` as arguments, we've wrapped it for you.\n"
     ]
    }
   ],
   "source": [
    "PATH = r\"C:\\Users\\suyash\\Desktop\\CIrcuitSolver/\"\n",
    "model = CNNODE()\n",
    "t_span = th.linspace(0, 1, 10)\n",
    "data = CircuitFused(PATH, (64, 64))\n",
    "learn = Learner(data, model, t_span, 25, 1e-4)"
   ]
  },
  {
   "cell_type": "code",
   "execution_count": 260,
   "metadata": {},
   "outputs": [
    {
     "name": "stderr",
     "output_type": "stream",
     "text": [
      "GPU available: False, used: False\n",
      "TPU available: False, using: 0 TPU cores\n",
      "IPU available: False, using: 0 IPUs\n",
      "HPU available: False, using: 0 HPUs\n",
      "Missing logger folder: c:\\Users\\suyash\\Desktop\\KACHRA\\Geekhore\\CNNode\\lightning_logs\n",
      "\n",
      "  | Name  | Type   | Params\n",
      "---------------------------------\n",
      "0 | model | CNNODE | 7.9 M \n",
      "---------------------------------\n",
      "7.9 M     Trainable params\n",
      "0         Non-trainable params\n",
      "7.9 M     Total params\n",
      "31.695    Total estimated model params size (MB)\n"
     ]
    },
    {
     "data": {
      "application/vnd.jupyter.widget-view+json": {
       "model_id": "b76f8913b0754a2d8763613c69020d0b",
       "version_major": 2,
       "version_minor": 0
      },
      "text/plain": [
       "Training: 0it [00:00, ?it/s]"
      ]
     },
     "metadata": {},
     "output_type": "display_data"
    },
    {
     "name": "stdout",
     "output_type": "stream",
     "text": [
      "torch.Size([25, 512, 4, 4])\n",
      "torch.Size([25, 256])\n"
     ]
    }
   ],
   "source": [
    "trainer = pl.Trainer(min_epochs=200, max_epochs=300)\n",
    "trainer.fit(learn)"
   ]
  }
 ],
 "metadata": {
  "kernelspec": {
   "display_name": "Python 3",
   "language": "python",
   "name": "python3"
  },
  "language_info": {
   "codemirror_mode": {
    "name": "ipython",
    "version": 3
   },
   "file_extension": ".py",
   "mimetype": "text/x-python",
   "name": "python",
   "nbconvert_exporter": "python",
   "pygments_lexer": "ipython3",
   "version": "3.10.9 (main, Dec 15 2022, 10:44:50) [Clang 14.0.0 (clang-1400.0.29.202)]"
  },
  "orig_nbformat": 4,
  "vscode": {
   "interpreter": {
    "hash": "b0fa6594d8f4cbf19f97940f81e996739fb7646882a419484c72d19e05852a7e"
   }
  }
 },
 "nbformat": 4,
 "nbformat_minor": 2
}
